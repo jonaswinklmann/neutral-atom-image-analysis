{
 "cells": [
  {
   "cell_type": "code",
   "execution_count": 1,
   "metadata": {},
   "outputs": [
    {
     "name": "stderr",
     "output_type": "stream",
     "text": [
      "/usr/local/lib/python3.10/dist-packages/numba/np/ufunc/parallel.py:371: NumbaWarning: The TBB threading layer requires TBB version 2021 update 6 or later i.e., TBB_INTERFACE_VERSION >= 12060. Found TBB_INTERFACE_VERSION = 12050. The TBB threading layer is disabled.\n",
      "  warnings.warn(problem)\n"
     ]
    },
    {
     "ename": "FileNotFoundError",
     "evalue": "[Errno 2] No such file or directory: b'<path>'",
     "output_type": "error",
     "traceback": [
      "\u001b[0;31m---------------------------------------------------------------------------\u001b[0m",
      "\u001b[0;31mFileNotFoundError\u001b[0m                         Traceback (most recent call last)",
      "Input \u001b[0;32mIn [1]\u001b[0m, in \u001b[0;36m<cell line: 16>\u001b[0;34m()\u001b[0m\n\u001b[1;32m     14\u001b[0m first \u001b[38;5;241m=\u001b[39m \u001b[38;5;28;01mTrue\u001b[39;00m\n\u001b[1;32m     15\u001b[0m image_count \u001b[38;5;241m=\u001b[39m \u001b[38;5;241m0\u001b[39m\n\u001b[0;32m---> 16\u001b[0m \u001b[38;5;28;01mfor\u001b[39;00m file \u001b[38;5;129;01min\u001b[39;00m \u001b[43mos\u001b[49m\u001b[38;5;241;43m.\u001b[39;49m\u001b[43mlistdir\u001b[49m\u001b[43m(\u001b[49m\u001b[43mdirectory_closed_shutter\u001b[49m\u001b[43m)\u001b[49m:\n\u001b[1;32m     17\u001b[0m     filename \u001b[38;5;241m=\u001b[39m os\u001b[38;5;241m.\u001b[39mfsdecode(file)\n\u001b[1;32m     18\u001b[0m     \u001b[38;5;28;01mwith\u001b[39;00m h5py\u001b[38;5;241m.\u001b[39mFile(path_closed_shutter \u001b[38;5;241m+\u001b[39m filename) \u001b[38;5;28;01mas\u001b[39;00m f:\n",
      "\u001b[0;31mFileNotFoundError\u001b[0m: [Errno 2] No such file or directory: b'<path>'"
     ]
    }
   ],
   "source": [
    "import os\n",
    "from neutral_atom_image_analysis import ImageAnalysisProjection\n",
    "\n",
    "import matplotlib.pyplot as plt\n",
    "import h5py\n",
    "\n",
    "from datetime import datetime\n",
    "\n",
    "import numpy as np\n",
    "\n",
    "camera = 'orca0'\n",
    "path_closed_shutter = \"<path>\"\n",
    "directory_closed_shutter = os.fsencode(path_closed_shutter)\n",
    "first = True\n",
    "image_count = 0\n",
    "for file in os.listdir(directory_closed_shutter):\n",
    "    filename = os.fsdecode(file)\n",
    "    with h5py.File(path_closed_shutter + filename) as f:\n",
    "        for i in f.get(camera).keys():\n",
    "            if first:\n",
    "                metadata = f.get(camera + '/' + i + '/metadata')\n",
    "                for key in metadata.keys():\n",
    "                    value = str(metadata[key][()])\n",
    "                    print(key + \": \" + value)\n",
    "                    if key == \"roiwidth\":\n",
    "                        width = int(float(value))\n",
    "                    if key == \"roiheight\":\n",
    "                        height = int(float(value))\n",
    "                loc_image = np.zeros((height,width))\n",
    "\n",
    "            data = np.array(f.get(camera + '/' + i + '/data'))\n",
    "\n",
    "            if(len(data) > 0):\n",
    "                image_count += 1\n",
    "                if first:\n",
    "                    closed_shutter_average = data.astype(np.float64)\n",
    "                    first = False\n",
    "                else:\n",
    "                    closed_shutter_average += data\n",
    "closed_shutter_average = closed_shutter_average / image_count\n",
    "\n",
    "path = \"<path>\"\n",
    "directory = os.fsencode(path)\n",
    "images = []\n",
    "image_pairs = []\n",
    "for file in os.listdir(directory):\n",
    "    filename = os.fsdecode(file)\n",
    "    with h5py.File(path + filename) as f:\n",
    "        image_pair = []\n",
    "        for i in f.get(camera).keys():\n",
    "            data = np.array(f.get(camera + '/' + i + '/data'))\n",
    "            if(len(data) > 0):\n",
    "                image_pair.append(data.copy())\n",
    "                images.append(data.copy())\n",
    "        if len(image_pair) == 2:\n",
    "            image_pairs.append(image_pair)\n",
    "    \n",
    "iap = ImageAnalysisProjection(1, print_info=True)\n",
    "threshold, peaks, fidelity, fidelity0, fidelity1, calibration_filling_ratio, measured_filling_ratio = iap.calibrate(images[:50], closed_shutter_average, proj_shape=[31,31])\n",
    "\n",
    "plt.imshow(iap.psf)\n",
    "plt.show()\n",
    "\n",
    "parameters = []\n",
    "parameters_2d_first = []\n",
    "parameters_2d_second = []\n",
    "start_time = datetime.now()\n",
    "for image1, image2 in image_pairs[25:]:\n",
    "    result1 = iap.reconstruct(image1)\n",
    "    result2 = iap.reconstruct(image2)\n",
    "    parameters.extend(result1)\n",
    "    parameters.extend(result2)\n",
    "    parameters_2d_first.extend(result1)\n",
    "    parameters_2d_second.extend(result2)\n",
    "end_time = datetime.now()\n",
    "print(\"Average time (us): \" + str((end_time - start_time).microseconds / 2 / len(image_pairs)))\n",
    "\n",
    "count, _, _ = plt.hist(parameters, int(np.sqrt(len(parameters))))\n",
    "plt.vlines([threshold], ymin=0, ymax=np.max(count), colors=['red'])\n",
    "plt.show()\n",
    "plt.scatter(parameters_2d_first, parameters_2d_second, s=0.1)\n",
    "plt.vlines([threshold], ymin=np.min(parameters), ymax=np.max(parameters), colors=['red'])\n",
    "plt.hlines([threshold], xmin=np.min(parameters), xmax=np.max(parameters), colors=['red'])"
   ]
  }
 ],
 "metadata": {
  "kernelspec": {
   "display_name": "Python 3",
   "language": "python",
   "name": "python3"
  },
  "language_info": {
   "codemirror_mode": {
    "name": "ipython",
    "version": 3
   },
   "file_extension": ".py",
   "mimetype": "text/x-python",
   "name": "python",
   "nbconvert_exporter": "python",
   "pygments_lexer": "ipython3",
   "version": "3.10.12"
  }
 },
 "nbformat": 4,
 "nbformat_minor": 2
}
